{
 "cells": [
  {
   "cell_type": "markdown",
   "metadata": {},
   "source": [
    "# Simple Tweet Sentiment Analysis \n",
    "\n",
    "The aim of this analysis is to look at the polarity of tweets that uses the #boundaries hashtag. Polarity here is the feeling or attitude of the tweet, where it is on a scale going all the way to negative (-1), positive (+1), and neutral (0). For this we will use the 'tweepy' module for Python to get data from the Twitter API, as well as the 'textblob' module, which is a Natural Language Processing (NPL) module which can analyse sentences."
   ]
  },
  {
   "cell_type": "markdown",
   "metadata": {},
   "source": [
    "## Connecting With The Twitter API\n",
    "After creating a new app using my Twitter profile, I get the require tokens to connect with the Twitter API."
   ]
  },
  {
   "cell_type": "code",
   "execution_count": 185,
   "metadata": {},
   "outputs": [],
   "source": [
    "import tweepy\n",
    "import pandas as pd\n",
    "from textblob import TextBlob\n",
    "from tweepy import OAuthHandler\n",
    "\n",
    "#Twitter API credentials\n",
    "CONSUMER_KEY = \"Insert Here\n",
    "CONSUMER_SECRET = \"Insert Here\n",
    "ACCESS_KEY = \"Insert Here\n",
    "ACCESS_SECRET = \"Insert Here\n",
    "\n",
    "auth = OAuthHandler(CONSUMER_KEY, CONSUMER_SECRET)\n",
    "auth.set_access_token(ACCESS_KEY, ACCESS_SECRET)\n",
    " \n",
    "api = tweepy.API(auth)"
   ]
  },
  {
   "cell_type": "markdown",
   "metadata": {},
   "source": [
    "## Fetching Tweets\n",
    "We limit the tweets sample size to 500, and fetch only those that uses the hashtag #boundaries. Each collected tweet will be added to a tweets list, then converted into a Python DataFrame for easy analysis going forward."
   ]
  },
  {
   "cell_type": "code",
   "execution_count": 220,
   "metadata": {},
   "outputs": [],
   "source": [
    "max_tweets = 500\n",
    "\n",
    "tweets = []\n",
    "\n",
    "for tweet in tweepy.Cursor(api.search, q='#boundaries', rpp=100).items(max_tweets):\n",
    "    tweets.append(tweet)"
   ]
  },
  {
   "cell_type": "code",
   "execution_count": 221,
   "metadata": {},
   "outputs": [],
   "source": [
    "tweets_df = pd.DataFrame(vars(tweets[i]) for i in range(len(tweets)))"
   ]
  },
  {
   "cell_type": "markdown",
   "metadata": {},
   "source": [
    "## Tweet Polarity\n",
    "We select the text from each tweet and analyse the sentiment of the text. The 'sentiment' function for textblob generates two values: i) polarity; ii) subjectivity. But for our purposes, we only use polarity. Depending on the polarity of the text, the tweets will be grouped into Positive, Negative, and Neutral lists and again converted into a Dataframe."
   ]
  },
  {
   "cell_type": "code",
   "execution_count": 223,
   "metadata": {},
   "outputs": [
    {
     "name": "stdout",
     "output_type": "stream",
     "text": [
      "51\n",
      "245\n",
      "255\n"
     ]
    }
   ],
   "source": [
    "import numpy as np\n",
    "\n",
    "positive = []\n",
    "\n",
    "negative = []\n",
    "\n",
    "neutral = []\n",
    "\n",
    "for idx, tweet in tweets_df.iterrows():\n",
    "    blob = TextBlob(tweet[\"text\"])\n",
    "    if blob.sentiment.polarity < 0:\n",
    "        negative.append(tweet)\n",
    "    if blob.sentiment.polarity == 0:\n",
    "        neutral.append(tweet)\n",
    "    else:\n",
    "        positive.append(tweet)\n",
    "        \n",
    "col_names = list(tweets_df.columns)\n",
    "\n",
    "print(len(negative))\n",
    "print(len(positive))\n",
    "print(len(neutral))\n",
    "\n"
   ]
  },
  {
   "cell_type": "code",
   "execution_count": 226,
   "metadata": {},
   "outputs": [],
   "source": [
    "positive_df = pd.DataFrame(np.array(positive).reshape(245,34), columns = col_names)\n",
    "negative_df = pd.DataFrame(np.array(negative).reshape(51,34), columns = col_names)\n",
    "neutral_df = pd.DataFrame(np.array(neutral).reshape(255,34), columns = col_names)"
   ]
  },
  {
   "cell_type": "code",
   "execution_count": 227,
   "metadata": {},
   "outputs": [
    {
     "data": {
      "text/plain": [
       "<matplotlib.text.Text at 0x1178fb5f8>"
      ]
     },
     "execution_count": 227,
     "metadata": {},
     "output_type": "execute_result"
    },
    {
     "data": {
      "image/png": "[encoded data removed]",
      "text/plain": [
       "<matplotlib.figure.Figure at 0x1a21450278>"
      ]
     },
     "metadata": {},
     "output_type": "display_data"
    }
   ],
   "source": [
    "import matplotlib.pyplot as plt\n",
    "%matplotlib inline\n",
    "\n",
    "positive_tweets = len(positive_df)\n",
    "negative_tweets = len(negative_df)\n",
    "neutral_tweets = len(neutral_df)\n",
    "\n",
    "\n",
    "a = [positive_tweets,neutral_tweets,negative_tweets]\n",
    "labels = 'positive','neutral','negative'\n",
    "\n",
    "plt.pie(a,labels=labels, autopct='%1.1f%%')\n",
    "plt.title(\"Tweet Polarity Pie Chart\")\n",
    "plt.savefig('tweetpolarity.png')"
   ]
  },
  {
   "cell_type": "markdown",
   "metadata": {},
   "source": [
    "### Findings:\n",
    "We can see that out of the 500 tweets, \"positive\" and \"neutral\" tweets are almost equal in number at 44.5% and 46.3% respectively. Only 9.3% of the tweets are \"negative\" in nature."
   ]
  },
  {
   "cell_type": "markdown",
   "metadata": {},
   "source": [
    "## Frequency Coupled Hashtags\n",
    "Next, what I thought was interesting to find out is what other hashtags are often used according to the types of tweet: Positive, Negative, and Neutral. To do this, we create a function to group all hashtags used for a particular type of tweet, excluding all variants of #boundaries with the help of the 're' module used for regular expressions."
   ]
  },
  {
   "cell_type": "markdown",
   "metadata": {},
   "source": [
    "## Top Ten Positive Hashtags"
   ]
  },
  {
   "cell_type": "code",
   "execution_count": 310,
   "metadata": {},
   "outputs": [
    {
     "name": "stdout",
     "output_type": "stream",
     "text": [
      "[('eBook', 13), ('CyberMonday', 9), ('amwriting', 6), ('WritersGuide2Persistence', 6), ('HealingAffirmation', 6), ('sexworkers', 6), ('MARRIAGE', 6), ('innovate', 5), ('success', 5), ('Science', 5)]\n"
     ]
    },
    {
     "data": {
      "image/png": "[encoded data removed]",
      "text/plain": [
       "<matplotlib.figure.Figure at 0x1a22df2828>"
      ]
     },
     "metadata": {},
     "output_type": "display_data"
    }
   ],
   "source": [
    "import re\n",
    "\n",
    "\n",
    "def get_hashtags(df):\n",
    "    hashtags = []\n",
    "    for text in df[\"text\"]:\n",
    "        set  = {word.strip(\"#\") for word in text.split() if word.startswith(\"#\")}\n",
    "        for s in set:\n",
    "            if re.search(\"[Bb][Oo][Uu][Nn][Dd][Aa][Rr][Ii][Ee][Ss]\", s) is not None:\n",
    "                pass\n",
    "            else:\n",
    "                hashtags.append(s)\n",
    "    return hashtags\n",
    "\n",
    "\n",
    "positive_hashtags = get_hashtags(positive_df)\n",
    "\n",
    "positive_hashtag_dict = {}\n",
    "\n",
    "for hashtag in positive_hashtags:\n",
    "    if hashtag in positive_hashtag_dict:\n",
    "        positive_hashtag_dict[hashtag] += 1\n",
    "    else:\n",
    "        positive_hashtag_dict[hashtag] = 1\n",
    "\n",
    "top_ten_positive =sorted(positive_hashtag_dict.items(), key=lambda x:x[1],reverse=True)[:10]\n",
    "print(top_ten_positive)\n",
    "\n",
    "plt.bar(range(len(top_ten_positive)), [val[1] for val in top_ten_positive], align='center')\n",
    "plt.xticks(range(len(top_ten_positive)), [val[0] for val in top_ten_positive])\n",
    "plt.xticks(rotation=790)\n",
    "plt.savefig('toptenpositive.png')"
   ]
  },
  {
   "cell_type": "markdown",
   "metadata": {},
   "source": [
    "### Findings:\n",
    "Many of the top hashtags for positive tweets are sales related e.g. 'eBook' and'CyberMonday' as the API pulls the latest tweets, and we are just finished with Cyber Monday 2017. Interestingly, others are writing related such as 'amwriting'and'WritersGuide2Persistence'. Other general positive hashtags are also seen such as 'innovate' and 'success', while some seem out of place such as 'sexworkers' because of its negative connotation."
   ]
  },
  {
   "cell_type": "markdown",
   "metadata": {},
   "source": [
    "## Top Ten Negative Hashtags"
   ]
  },
  {
   "cell_type": "code",
   "execution_count": 311,
   "metadata": {},
   "outputs": [
    {
     "name": "stdout",
     "output_type": "stream",
     "text": [
      "[('NO.', 5), ('behavior', 5), ('nomeansno', 5), ('parenting', 5), ('Quote', 5), ('Stinks', 3), ('BrothersCat', 3), ('recovery', 3), ('narcissisticabuse', 3), ('security', 3)]\n"
     ]
    },
    {
     "data": {
      "image/png": "[encoded data removed]",
      "text/plain": [
       "<matplotlib.figure.Figure at 0x1a2309ec88>"
      ]
     },
     "metadata": {},
     "output_type": "display_data"
    }
   ],
   "source": [
    "negative_hashtags = get_hashtags(negative_df)            \n",
    "negative_hashtag_dict = {}\n",
    "\n",
    "for hashtag in negative_hashtags:\n",
    "    if hashtag in negative_hashtag_dict:\n",
    "        negative_hashtag_dict[hashtag] += 1\n",
    "    else:\n",
    "        negative_hashtag_dict[hashtag] = 1\n",
    "        \n",
    "top_ten_negative =sorted(negative_hashtag_dict.items(), key=lambda x:x[1],reverse=True)[:10]\n",
    "print(top_ten_negative)\n",
    "\n",
    "plt.bar(range(len(top_ten_negative)), [val[1] for val in top_ten_negative], align='center')\n",
    "plt.xticks(range(len(top_ten_negative)), [val[0] for val in top_ten_negative])\n",
    "plt.xticks(rotation=90)\n",
    "plt.savefig('toptennegative.png')"
   ]
  },
  {
   "cell_type": "markdown",
   "metadata": {},
   "source": [
    "### Findings:\n",
    "I feel that the top ten results for negative hashtags makes more sense. A big fat 'NO' takes the number one spot, followed by 'behavior' and another resistance related hashtag 'nomeansno'.  In general, the accompanying hashtags are negatively skewed, which matched the tweet's negative label."
   ]
  },
  {
   "cell_type": "markdown",
   "metadata": {},
   "source": [
    "## Top Ten Neutral Hashtags"
   ]
  },
  {
   "cell_type": "code",
   "execution_count": 312,
   "metadata": {
    "scrolled": true
   },
   "outputs": [
    {
     "name": "stdout",
     "output_type": "stream",
     "text": [
      "[('lifecoach', 25), ('selfesteem', 15), ('NaturalCapital', 8), ('NatCap17', 8), ('selflove', 7), ('Codependents', 7), ('Thehappymedium', 7), ('takenoshit', 7), ('lovemore…', 7), ('heal', 6)]\n"
     ]
    },
    {
     "data": {
      "image/png": "[encoded data removed]",
      "text/plain": [
       "<matplotlib.figure.Figure at 0x1a234364a8>"
      ]
     },
     "metadata": {},
     "output_type": "display_data"
    }
   ],
   "source": [
    "neutral_hashtags = get_hashtags(neutral_df)\n",
    "neutral_hashtag_dict = {}\n",
    "\n",
    "for hashtag in neutral_hashtags:\n",
    "    if hashtag in neutral_hashtag_dict:\n",
    "        neutral_hashtag_dict[hashtag] += 1\n",
    "    else:\n",
    "        neutral_hashtag_dict[hashtag] = 1\n",
    "        \n",
    "top_ten_neutral =sorted(neutral_hashtag_dict.items(), key=lambda x:x[1],reverse=True)[:10]\n",
    "print(top_ten_neutral)\n",
    "\n",
    "plt.bar(range(len(top_ten_neutral)), [val[1] for val in top_ten_neutral], align='center')\n",
    "plt.xticks(range(len(top_ten_neutral)), [val[0] for val in top_ten_neutral])\n",
    "plt.xticks(rotation=90)\n",
    "plt.savefig('toptenneutral.png')"
   ]
  },
  {
   "cell_type": "markdown",
   "metadata": {},
   "source": [
    "### Findings:\n",
    "Interestingly, \"neutral\" tweets are accompanies by positive hashtags more so than actual \"positive\" tweets! These positive hashtags include \"lifecoach\", \"selfesteem\",\"selflove\", \"lovemore\" and \"heal\"."
   ]
  },
  {
   "cell_type": "code",
   "execution_count": null,
   "metadata": {
    "collapsed": true
   },
   "outputs": [],
   "source": []
  }
 ],
 "metadata": {
  "kernelspec": {
   "display_name": "Python 3",
   "language": "python",
   "name": "python3"
  },
  "language_info": {
   "codemirror_mode": {
    "name": "ipython",
    "version": 3
   },
   "file_extension": ".py",
   "mimetype": "text/x-python",
   "name": "python",
   "nbconvert_exporter": "python",
   "pygments_lexer": "ipython3",
   "version": "3.6.2"
  }
 },
 "nbformat": 4,
 "nbformat_minor": 2
}
